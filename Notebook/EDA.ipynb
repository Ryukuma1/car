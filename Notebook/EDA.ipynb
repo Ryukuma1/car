{
 "cells": [
  {
   "cell_type": "code",
   "execution_count": null,
   "metadata": {},
   "outputs": [],
   "source": [
    "import pandas as pd\n",
    "import plotly.express as px\n",
    "\n",
    "df = pd.read_csv('vehicles_us.csv')\n",
    "\n",
    "df.head()\n",
    "df.describe()\n",
    "df.isnull().sum()\n",
    "\n",
    "fig = px.histogram(df, x='price', title='Histogram of price')\n",
    "fig.show()\n",
    "\n",
    "fig = px.scatter(df, x='price', y='type', title='Scatterplot')\n",
    "fig.show()"
   ]
  }
 ],
 "metadata": {
  "language_info": {
   "name": "python"
  },
  "orig_nbformat": 4
 },
 "nbformat": 4,
 "nbformat_minor": 2
}
